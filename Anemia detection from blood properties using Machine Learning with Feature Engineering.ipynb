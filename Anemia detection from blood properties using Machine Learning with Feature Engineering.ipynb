{
 "cells": [
  {
   "cell_type": "code",
   "execution_count": 1,
   "id": "0ad2d7d6",
   "metadata": {},
   "outputs": [
    {
     "name": "stdout",
     "output_type": "stream",
     "text": [
      "WARNING:tensorflow:From C:\\Users\\HP\\anaconda3\\Lib\\site-packages\\keras\\src\\losses.py:2976: The name tf.losses.sparse_softmax_cross_entropy is deprecated. Please use tf.compat.v1.losses.sparse_softmax_cross_entropy instead.\n",
      "\n"
     ]
    }
   ],
   "source": [
    "import pandas as pd\n",
    "import numpy as np\n",
    "import seaborn as sns\n",
    "import matplotlib.pyplot as plt\n",
    "import tensorflow as tf\n",
    "from tensorflow import keras \n",
    "from tensorflow.keras import layers \n",
    "from tensorflow.keras.models import Sequential \n"
   ]
  },
  {
   "cell_type": "code",
   "execution_count": 2,
   "id": "3163fb26",
   "metadata": {},
   "outputs": [],
   "source": [
    "df= pd.read_csv('std_dataset.csv')"
   ]
  },
  {
   "cell_type": "code",
   "execution_count": 3,
   "id": "851019f8",
   "metadata": {},
   "outputs": [
    {
     "data": {
      "text/html": [
       "<div>\n",
       "<style scoped>\n",
       "    .dataframe tbody tr th:only-of-type {\n",
       "        vertical-align: middle;\n",
       "    }\n",
       "\n",
       "    .dataframe tbody tr th {\n",
       "        vertical-align: top;\n",
       "    }\n",
       "\n",
       "    .dataframe thead th {\n",
       "        text-align: right;\n",
       "    }\n",
       "</style>\n",
       "<table border=\"1\" class=\"dataframe\">\n",
       "  <thead>\n",
       "    <tr style=\"text-align: right;\">\n",
       "      <th></th>\n",
       "      <th>Gender</th>\n",
       "      <th>Hemoglobin</th>\n",
       "      <th>MCH</th>\n",
       "      <th>MCHC</th>\n",
       "      <th>MCV</th>\n",
       "      <th>Result</th>\n",
       "    </tr>\n",
       "  </thead>\n",
       "  <tbody>\n",
       "    <tr>\n",
       "      <th>0</th>\n",
       "      <td>0</td>\n",
       "      <td>15.2</td>\n",
       "      <td>29.9</td>\n",
       "      <td>33.4</td>\n",
       "      <td>89.3</td>\n",
       "      <td>0</td>\n",
       "    </tr>\n",
       "    <tr>\n",
       "      <th>1</th>\n",
       "      <td>0</td>\n",
       "      <td>11.9</td>\n",
       "      <td>31.0</td>\n",
       "      <td>32.5</td>\n",
       "      <td>95.4</td>\n",
       "      <td>1</td>\n",
       "    </tr>\n",
       "    <tr>\n",
       "      <th>2</th>\n",
       "      <td>0</td>\n",
       "      <td>17.2</td>\n",
       "      <td>31.1</td>\n",
       "      <td>34.3</td>\n",
       "      <td>90.5</td>\n",
       "      <td>0</td>\n",
       "    </tr>\n",
       "    <tr>\n",
       "      <th>3</th>\n",
       "      <td>0</td>\n",
       "      <td>12.9</td>\n",
       "      <td>28.0</td>\n",
       "      <td>34.0</td>\n",
       "      <td>82.1</td>\n",
       "      <td>0</td>\n",
       "    </tr>\n",
       "    <tr>\n",
       "      <th>4</th>\n",
       "      <td>1</td>\n",
       "      <td>14.5</td>\n",
       "      <td>30.6</td>\n",
       "      <td>33.0</td>\n",
       "      <td>92.8</td>\n",
       "      <td>0</td>\n",
       "    </tr>\n",
       "    <tr>\n",
       "      <th>...</th>\n",
       "      <td>...</td>\n",
       "      <td>...</td>\n",
       "      <td>...</td>\n",
       "      <td>...</td>\n",
       "      <td>...</td>\n",
       "      <td>...</td>\n",
       "    </tr>\n",
       "    <tr>\n",
       "      <th>10324</th>\n",
       "      <td>0</td>\n",
       "      <td>10.6</td>\n",
       "      <td>25.4</td>\n",
       "      <td>28.2</td>\n",
       "      <td>82.9</td>\n",
       "      <td>1</td>\n",
       "    </tr>\n",
       "    <tr>\n",
       "      <th>10325</th>\n",
       "      <td>1</td>\n",
       "      <td>12.1</td>\n",
       "      <td>28.3</td>\n",
       "      <td>30.4</td>\n",
       "      <td>86.9</td>\n",
       "      <td>1</td>\n",
       "    </tr>\n",
       "    <tr>\n",
       "      <th>10326</th>\n",
       "      <td>1</td>\n",
       "      <td>13.1</td>\n",
       "      <td>17.7</td>\n",
       "      <td>28.1</td>\n",
       "      <td>80.7</td>\n",
       "      <td>1</td>\n",
       "    </tr>\n",
       "    <tr>\n",
       "      <th>10327</th>\n",
       "      <td>0</td>\n",
       "      <td>14.3</td>\n",
       "      <td>16.2</td>\n",
       "      <td>29.5</td>\n",
       "      <td>95.2</td>\n",
       "      <td>0</td>\n",
       "    </tr>\n",
       "    <tr>\n",
       "      <th>10328</th>\n",
       "      <td>0</td>\n",
       "      <td>11.8</td>\n",
       "      <td>21.2</td>\n",
       "      <td>28.4</td>\n",
       "      <td>98.1</td>\n",
       "      <td>1</td>\n",
       "    </tr>\n",
       "  </tbody>\n",
       "</table>\n",
       "<p>10329 rows × 6 columns</p>\n",
       "</div>"
      ],
      "text/plain": [
       "       Gender  Hemoglobin   MCH  MCHC   MCV  Result\n",
       "0           0        15.2  29.9  33.4  89.3       0\n",
       "1           0        11.9  31.0  32.5  95.4       1\n",
       "2           0        17.2  31.1  34.3  90.5       0\n",
       "3           0        12.9  28.0  34.0  82.1       0\n",
       "4           1        14.5  30.6  33.0  92.8       0\n",
       "...       ...         ...   ...   ...   ...     ...\n",
       "10324       0        10.6  25.4  28.2  82.9       1\n",
       "10325       1        12.1  28.3  30.4  86.9       1\n",
       "10326       1        13.1  17.7  28.1  80.7       1\n",
       "10327       0        14.3  16.2  29.5  95.2       0\n",
       "10328       0        11.8  21.2  28.4  98.1       1\n",
       "\n",
       "[10329 rows x 6 columns]"
      ]
     },
     "execution_count": 3,
     "metadata": {},
     "output_type": "execute_result"
    }
   ],
   "source": [
    "df"
   ]
  },
  {
   "cell_type": "code",
   "execution_count": 4,
   "id": "d87c0647",
   "metadata": {},
   "outputs": [
    {
     "data": {
      "text/plain": [
       "Gender        0\n",
       "Hemoglobin    0\n",
       "MCH           0\n",
       "MCHC          0\n",
       "MCV           0\n",
       "Result        0\n",
       "dtype: int64"
      ]
     },
     "execution_count": 4,
     "metadata": {},
     "output_type": "execute_result"
    }
   ],
   "source": [
    "df.isnull().sum()"
   ]
  },
  {
   "cell_type": "code",
   "execution_count": 5,
   "id": "35481515",
   "metadata": {},
   "outputs": [
    {
     "data": {
      "text/plain": [
       "Result\n",
       "0    6597\n",
       "1    3732\n",
       "Name: count, dtype: int64"
      ]
     },
     "execution_count": 5,
     "metadata": {},
     "output_type": "execute_result"
    }
   ],
   "source": [
    "df['Result'].value_counts()"
   ]
  },
  {
   "cell_type": "code",
   "execution_count": 6,
   "id": "28098838",
   "metadata": {},
   "outputs": [
    {
     "data": {
      "image/png": "[encoded data removed]",
      "text/plain": [
       "<Figure size 640x480 with 1 Axes>"
      ]
     },
     "metadata": {},
     "output_type": "display_data"
    }
   ],
   "source": [
    "df['Result'] = df['Result'].astype('category')\n",
    "sns.countplot(data=df, x='Result')\n",
    "plt.show()\n",
    "\n"
   ]
  },
  {
   "cell_type": "code",
   "execution_count": 7,
   "id": "d73ef956",
   "metadata": {},
   "outputs": [],
   "source": [
    "df['RBC'] = (df['Hemoglobin']/df['MCH'])*10"
   ]
  },
  {
   "cell_type": "code",
   "execution_count": 8,
   "id": "16823627",
   "metadata": {},
   "outputs": [
    {
     "data": {
      "text/html": [
       "<div>\n",
       "<style scoped>\n",
       "    .dataframe tbody tr th:only-of-type {\n",
       "        vertical-align: middle;\n",
       "    }\n",
       "\n",
       "    .dataframe tbody tr th {\n",
       "        vertical-align: top;\n",
       "    }\n",
       "\n",
       "    .dataframe thead th {\n",
       "        text-align: right;\n",
       "    }\n",
       "</style>\n",
       "<table border=\"1\" class=\"dataframe\">\n",
       "  <thead>\n",
       "    <tr style=\"text-align: right;\">\n",
       "      <th></th>\n",
       "      <th>Gender</th>\n",
       "      <th>Hemoglobin</th>\n",
       "      <th>MCH</th>\n",
       "      <th>MCHC</th>\n",
       "      <th>MCV</th>\n",
       "      <th>Result</th>\n",
       "      <th>RBC</th>\n",
       "    </tr>\n",
       "  </thead>\n",
       "  <tbody>\n",
       "    <tr>\n",
       "      <th>0</th>\n",
       "      <td>0</td>\n",
       "      <td>15.2</td>\n",
       "      <td>29.9</td>\n",
       "      <td>33.4</td>\n",
       "      <td>89.3</td>\n",
       "      <td>0</td>\n",
       "      <td>5.083612</td>\n",
       "    </tr>\n",
       "    <tr>\n",
       "      <th>1</th>\n",
       "      <td>0</td>\n",
       "      <td>11.9</td>\n",
       "      <td>31.0</td>\n",
       "      <td>32.5</td>\n",
       "      <td>95.4</td>\n",
       "      <td>1</td>\n",
       "      <td>3.838710</td>\n",
       "    </tr>\n",
       "    <tr>\n",
       "      <th>2</th>\n",
       "      <td>0</td>\n",
       "      <td>17.2</td>\n",
       "      <td>31.1</td>\n",
       "      <td>34.3</td>\n",
       "      <td>90.5</td>\n",
       "      <td>0</td>\n",
       "      <td>5.530547</td>\n",
       "    </tr>\n",
       "    <tr>\n",
       "      <th>3</th>\n",
       "      <td>0</td>\n",
       "      <td>12.9</td>\n",
       "      <td>28.0</td>\n",
       "      <td>34.0</td>\n",
       "      <td>82.1</td>\n",
       "      <td>0</td>\n",
       "      <td>4.607143</td>\n",
       "    </tr>\n",
       "    <tr>\n",
       "      <th>4</th>\n",
       "      <td>1</td>\n",
       "      <td>14.5</td>\n",
       "      <td>30.6</td>\n",
       "      <td>33.0</td>\n",
       "      <td>92.8</td>\n",
       "      <td>0</td>\n",
       "      <td>4.738562</td>\n",
       "    </tr>\n",
       "    <tr>\n",
       "      <th>...</th>\n",
       "      <td>...</td>\n",
       "      <td>...</td>\n",
       "      <td>...</td>\n",
       "      <td>...</td>\n",
       "      <td>...</td>\n",
       "      <td>...</td>\n",
       "      <td>...</td>\n",
       "    </tr>\n",
       "    <tr>\n",
       "      <th>10324</th>\n",
       "      <td>0</td>\n",
       "      <td>10.6</td>\n",
       "      <td>25.4</td>\n",
       "      <td>28.2</td>\n",
       "      <td>82.9</td>\n",
       "      <td>1</td>\n",
       "      <td>4.173228</td>\n",
       "    </tr>\n",
       "    <tr>\n",
       "      <th>10325</th>\n",
       "      <td>1</td>\n",
       "      <td>12.1</td>\n",
       "      <td>28.3</td>\n",
       "      <td>30.4</td>\n",
       "      <td>86.9</td>\n",
       "      <td>1</td>\n",
       "      <td>4.275618</td>\n",
       "    </tr>\n",
       "    <tr>\n",
       "      <th>10326</th>\n",
       "      <td>1</td>\n",
       "      <td>13.1</td>\n",
       "      <td>17.7</td>\n",
       "      <td>28.1</td>\n",
       "      <td>80.7</td>\n",
       "      <td>1</td>\n",
       "      <td>7.401130</td>\n",
       "    </tr>\n",
       "    <tr>\n",
       "      <th>10327</th>\n",
       "      <td>0</td>\n",
       "      <td>14.3</td>\n",
       "      <td>16.2</td>\n",
       "      <td>29.5</td>\n",
       "      <td>95.2</td>\n",
       "      <td>0</td>\n",
       "      <td>8.827160</td>\n",
       "    </tr>\n",
       "    <tr>\n",
       "      <th>10328</th>\n",
       "      <td>0</td>\n",
       "      <td>11.8</td>\n",
       "      <td>21.2</td>\n",
       "      <td>28.4</td>\n",
       "      <td>98.1</td>\n",
       "      <td>1</td>\n",
       "      <td>5.566038</td>\n",
       "    </tr>\n",
       "  </tbody>\n",
       "</table>\n",
       "<p>10329 rows × 7 columns</p>\n",
       "</div>"
      ],
      "text/plain": [
       "       Gender  Hemoglobin   MCH  MCHC   MCV Result       RBC\n",
       "0           0        15.2  29.9  33.4  89.3      0  5.083612\n",
       "1           0        11.9  31.0  32.5  95.4      1  3.838710\n",
       "2           0        17.2  31.1  34.3  90.5      0  5.530547\n",
       "3           0        12.9  28.0  34.0  82.1      0  4.607143\n",
       "4           1        14.5  30.6  33.0  92.8      0  4.738562\n",
       "...       ...         ...   ...   ...   ...    ...       ...\n",
       "10324       0        10.6  25.4  28.2  82.9      1  4.173228\n",
       "10325       1        12.1  28.3  30.4  86.9      1  4.275618\n",
       "10326       1        13.1  17.7  28.1  80.7      1  7.401130\n",
       "10327       0        14.3  16.2  29.5  95.2      0  8.827160\n",
       "10328       0        11.8  21.2  28.4  98.1      1  5.566038\n",
       "\n",
       "[10329 rows x 7 columns]"
      ]
     },
     "execution_count": 8,
     "metadata": {},
     "output_type": "execute_result"
    }
   ],
   "source": [
    "df"
   ]
  },
  {
   "cell_type": "code",
   "execution_count": 9,
   "id": "e54f9133",
   "metadata": {},
   "outputs": [],
   "source": [
    "df['PCV'] = (df['Hemoglobin']/3)"
   ]
  },
  {
   "cell_type": "code",
   "execution_count": 10,
   "id": "b9b54923",
   "metadata": {},
   "outputs": [
    {
     "data": {
      "text/html": [
       "<div>\n",
       "<style scoped>\n",
       "    .dataframe tbody tr th:only-of-type {\n",
       "        vertical-align: middle;\n",
       "    }\n",
       "\n",
       "    .dataframe tbody tr th {\n",
       "        vertical-align: top;\n",
       "    }\n",
       "\n",
       "    .dataframe thead th {\n",
       "        text-align: right;\n",
       "    }\n",
       "</style>\n",
       "<table border=\"1\" class=\"dataframe\">\n",
       "  <thead>\n",
       "    <tr style=\"text-align: right;\">\n",
       "      <th></th>\n",
       "      <th>Gender</th>\n",
       "      <th>Hemoglobin</th>\n",
       "      <th>MCH</th>\n",
       "      <th>MCHC</th>\n",
       "      <th>MCV</th>\n",
       "      <th>Result</th>\n",
       "      <th>RBC</th>\n",
       "      <th>PCV</th>\n",
       "    </tr>\n",
       "  </thead>\n",
       "  <tbody>\n",
       "    <tr>\n",
       "      <th>0</th>\n",
       "      <td>0</td>\n",
       "      <td>15.2</td>\n",
       "      <td>29.9</td>\n",
       "      <td>33.4</td>\n",
       "      <td>89.3</td>\n",
       "      <td>0</td>\n",
       "      <td>5.083612</td>\n",
       "      <td>5.066667</td>\n",
       "    </tr>\n",
       "    <tr>\n",
       "      <th>1</th>\n",
       "      <td>0</td>\n",
       "      <td>11.9</td>\n",
       "      <td>31.0</td>\n",
       "      <td>32.5</td>\n",
       "      <td>95.4</td>\n",
       "      <td>1</td>\n",
       "      <td>3.838710</td>\n",
       "      <td>3.966667</td>\n",
       "    </tr>\n",
       "    <tr>\n",
       "      <th>2</th>\n",
       "      <td>0</td>\n",
       "      <td>17.2</td>\n",
       "      <td>31.1</td>\n",
       "      <td>34.3</td>\n",
       "      <td>90.5</td>\n",
       "      <td>0</td>\n",
       "      <td>5.530547</td>\n",
       "      <td>5.733333</td>\n",
       "    </tr>\n",
       "    <tr>\n",
       "      <th>3</th>\n",
       "      <td>0</td>\n",
       "      <td>12.9</td>\n",
       "      <td>28.0</td>\n",
       "      <td>34.0</td>\n",
       "      <td>82.1</td>\n",
       "      <td>0</td>\n",
       "      <td>4.607143</td>\n",
       "      <td>4.300000</td>\n",
       "    </tr>\n",
       "    <tr>\n",
       "      <th>4</th>\n",
       "      <td>1</td>\n",
       "      <td>14.5</td>\n",
       "      <td>30.6</td>\n",
       "      <td>33.0</td>\n",
       "      <td>92.8</td>\n",
       "      <td>0</td>\n",
       "      <td>4.738562</td>\n",
       "      <td>4.833333</td>\n",
       "    </tr>\n",
       "    <tr>\n",
       "      <th>...</th>\n",
       "      <td>...</td>\n",
       "      <td>...</td>\n",
       "      <td>...</td>\n",
       "      <td>...</td>\n",
       "      <td>...</td>\n",
       "      <td>...</td>\n",
       "      <td>...</td>\n",
       "      <td>...</td>\n",
       "    </tr>\n",
       "    <tr>\n",
       "      <th>10324</th>\n",
       "      <td>0</td>\n",
       "      <td>10.6</td>\n",
       "      <td>25.4</td>\n",
       "      <td>28.2</td>\n",
       "      <td>82.9</td>\n",
       "      <td>1</td>\n",
       "      <td>4.173228</td>\n",
       "      <td>3.533333</td>\n",
       "    </tr>\n",
       "    <tr>\n",
       "      <th>10325</th>\n",
       "      <td>1</td>\n",
       "      <td>12.1</td>\n",
       "      <td>28.3</td>\n",
       "      <td>30.4</td>\n",
       "      <td>86.9</td>\n",
       "      <td>1</td>\n",
       "      <td>4.275618</td>\n",
       "      <td>4.033333</td>\n",
       "    </tr>\n",
       "    <tr>\n",
       "      <th>10326</th>\n",
       "      <td>1</td>\n",
       "      <td>13.1</td>\n",
       "      <td>17.7</td>\n",
       "      <td>28.1</td>\n",
       "      <td>80.7</td>\n",
       "      <td>1</td>\n",
       "      <td>7.401130</td>\n",
       "      <td>4.366667</td>\n",
       "    </tr>\n",
       "    <tr>\n",
       "      <th>10327</th>\n",
       "      <td>0</td>\n",
       "      <td>14.3</td>\n",
       "      <td>16.2</td>\n",
       "      <td>29.5</td>\n",
       "      <td>95.2</td>\n",
       "      <td>0</td>\n",
       "      <td>8.827160</td>\n",
       "      <td>4.766667</td>\n",
       "    </tr>\n",
       "    <tr>\n",
       "      <th>10328</th>\n",
       "      <td>0</td>\n",
       "      <td>11.8</td>\n",
       "      <td>21.2</td>\n",
       "      <td>28.4</td>\n",
       "      <td>98.1</td>\n",
       "      <td>1</td>\n",
       "      <td>5.566038</td>\n",
       "      <td>3.933333</td>\n",
       "    </tr>\n",
       "  </tbody>\n",
       "</table>\n",
       "<p>10329 rows × 8 columns</p>\n",
       "</div>"
      ],
      "text/plain": [
       "       Gender  Hemoglobin   MCH  MCHC   MCV Result       RBC       PCV\n",
       "0           0        15.2  29.9  33.4  89.3      0  5.083612  5.066667\n",
       "1           0        11.9  31.0  32.5  95.4      1  3.838710  3.966667\n",
       "2           0        17.2  31.1  34.3  90.5      0  5.530547  5.733333\n",
       "3           0        12.9  28.0  34.0  82.1      0  4.607143  4.300000\n",
       "4           1        14.5  30.6  33.0  92.8      0  4.738562  4.833333\n",
       "...       ...         ...   ...   ...   ...    ...       ...       ...\n",
       "10324       0        10.6  25.4  28.2  82.9      1  4.173228  3.533333\n",
       "10325       1        12.1  28.3  30.4  86.9      1  4.275618  4.033333\n",
       "10326       1        13.1  17.7  28.1  80.7      1  7.401130  4.366667\n",
       "10327       0        14.3  16.2  29.5  95.2      0  8.827160  4.766667\n",
       "10328       0        11.8  21.2  28.4  98.1      1  5.566038  3.933333\n",
       "\n",
       "[10329 rows x 8 columns]"
      ]
     },
     "execution_count": 10,
     "metadata": {},
     "output_type": "execute_result"
    }
   ],
   "source": [
    "df"
   ]
  },
  {
   "cell_type": "code",
   "execution_count": 11,
   "id": "4e97619f",
   "metadata": {},
   "outputs": [],
   "source": [
    "df['HCT'] = (df['Hemoglobin']/df['MCHC'])*100"
   ]
  },
  {
   "cell_type": "code",
   "execution_count": 12,
   "id": "28af4b11",
   "metadata": {},
   "outputs": [
    {
     "data": {
      "text/html": [
       "<div>\n",
       "<style scoped>\n",
       "    .dataframe tbody tr th:only-of-type {\n",
       "        vertical-align: middle;\n",
       "    }\n",
       "\n",
       "    .dataframe tbody tr th {\n",
       "        vertical-align: top;\n",
       "    }\n",
       "\n",
       "    .dataframe thead th {\n",
       "        text-align: right;\n",
       "    }\n",
       "</style>\n",
       "<table border=\"1\" class=\"dataframe\">\n",
       "  <thead>\n",
       "    <tr style=\"text-align: right;\">\n",
       "      <th></th>\n",
       "      <th>Gender</th>\n",
       "      <th>Hemoglobin</th>\n",
       "      <th>MCH</th>\n",
       "      <th>MCHC</th>\n",
       "      <th>MCV</th>\n",
       "      <th>Result</th>\n",
       "      <th>RBC</th>\n",
       "      <th>PCV</th>\n",
       "      <th>HCT</th>\n",
       "    </tr>\n",
       "  </thead>\n",
       "  <tbody>\n",
       "    <tr>\n",
       "      <th>0</th>\n",
       "      <td>0</td>\n",
       "      <td>15.2</td>\n",
       "      <td>29.9</td>\n",
       "      <td>33.4</td>\n",
       "      <td>89.3</td>\n",
       "      <td>0</td>\n",
       "      <td>5.083612</td>\n",
       "      <td>5.066667</td>\n",
       "      <td>45.508982</td>\n",
       "    </tr>\n",
       "    <tr>\n",
       "      <th>1</th>\n",
       "      <td>0</td>\n",
       "      <td>11.9</td>\n",
       "      <td>31.0</td>\n",
       "      <td>32.5</td>\n",
       "      <td>95.4</td>\n",
       "      <td>1</td>\n",
       "      <td>3.838710</td>\n",
       "      <td>3.966667</td>\n",
       "      <td>36.615385</td>\n",
       "    </tr>\n",
       "    <tr>\n",
       "      <th>2</th>\n",
       "      <td>0</td>\n",
       "      <td>17.2</td>\n",
       "      <td>31.1</td>\n",
       "      <td>34.3</td>\n",
       "      <td>90.5</td>\n",
       "      <td>0</td>\n",
       "      <td>5.530547</td>\n",
       "      <td>5.733333</td>\n",
       "      <td>50.145773</td>\n",
       "    </tr>\n",
       "    <tr>\n",
       "      <th>3</th>\n",
       "      <td>0</td>\n",
       "      <td>12.9</td>\n",
       "      <td>28.0</td>\n",
       "      <td>34.0</td>\n",
       "      <td>82.1</td>\n",
       "      <td>0</td>\n",
       "      <td>4.607143</td>\n",
       "      <td>4.300000</td>\n",
       "      <td>37.941176</td>\n",
       "    </tr>\n",
       "    <tr>\n",
       "      <th>4</th>\n",
       "      <td>1</td>\n",
       "      <td>14.5</td>\n",
       "      <td>30.6</td>\n",
       "      <td>33.0</td>\n",
       "      <td>92.8</td>\n",
       "      <td>0</td>\n",
       "      <td>4.738562</td>\n",
       "      <td>4.833333</td>\n",
       "      <td>43.939394</td>\n",
       "    </tr>\n",
       "    <tr>\n",
       "      <th>...</th>\n",
       "      <td>...</td>\n",
       "      <td>...</td>\n",
       "      <td>...</td>\n",
       "      <td>...</td>\n",
       "      <td>...</td>\n",
       "      <td>...</td>\n",
       "      <td>...</td>\n",
       "      <td>...</td>\n",
       "      <td>...</td>\n",
       "    </tr>\n",
       "    <tr>\n",
       "      <th>10324</th>\n",
       "      <td>0</td>\n",
       "      <td>10.6</td>\n",
       "      <td>25.4</td>\n",
       "      <td>28.2</td>\n",
       "      <td>82.9</td>\n",
       "      <td>1</td>\n",
       "      <td>4.173228</td>\n",
       "      <td>3.533333</td>\n",
       "      <td>37.588652</td>\n",
       "    </tr>\n",
       "    <tr>\n",
       "      <th>10325</th>\n",
       "      <td>1</td>\n",
       "      <td>12.1</td>\n",
       "      <td>28.3</td>\n",
       "      <td>30.4</td>\n",
       "      <td>86.9</td>\n",
       "      <td>1</td>\n",
       "      <td>4.275618</td>\n",
       "      <td>4.033333</td>\n",
       "      <td>39.802632</td>\n",
       "    </tr>\n",
       "    <tr>\n",
       "      <th>10326</th>\n",
       "      <td>1</td>\n",
       "      <td>13.1</td>\n",
       "      <td>17.7</td>\n",
       "      <td>28.1</td>\n",
       "      <td>80.7</td>\n",
       "      <td>1</td>\n",
       "      <td>7.401130</td>\n",
       "      <td>4.366667</td>\n",
       "      <td>46.619217</td>\n",
       "    </tr>\n",
       "    <tr>\n",
       "      <th>10327</th>\n",
       "      <td>0</td>\n",
       "      <td>14.3</td>\n",
       "      <td>16.2</td>\n",
       "      <td>29.5</td>\n",
       "      <td>95.2</td>\n",
       "      <td>0</td>\n",
       "      <td>8.827160</td>\n",
       "      <td>4.766667</td>\n",
       "      <td>48.474576</td>\n",
       "    </tr>\n",
       "    <tr>\n",
       "      <th>10328</th>\n",
       "      <td>0</td>\n",
       "      <td>11.8</td>\n",
       "      <td>21.2</td>\n",
       "      <td>28.4</td>\n",
       "      <td>98.1</td>\n",
       "      <td>1</td>\n",
       "      <td>5.566038</td>\n",
       "      <td>3.933333</td>\n",
       "      <td>41.549296</td>\n",
       "    </tr>\n",
       "  </tbody>\n",
       "</table>\n",
       "<p>10329 rows × 9 columns</p>\n",
       "</div>"
      ],
      "text/plain": [
       "       Gender  Hemoglobin   MCH  MCHC   MCV Result       RBC       PCV  \\\n",
       "0           0        15.2  29.9  33.4  89.3      0  5.083612  5.066667   \n",
       "1           0        11.9  31.0  32.5  95.4      1  3.838710  3.966667   \n",
       "2           0        17.2  31.1  34.3  90.5      0  5.530547  5.733333   \n",
       "3           0        12.9  28.0  34.0  82.1      0  4.607143  4.300000   \n",
       "4           1        14.5  30.6  33.0  92.8      0  4.738562  4.833333   \n",
       "...       ...         ...   ...   ...   ...    ...       ...       ...   \n",
       "10324       0        10.6  25.4  28.2  82.9      1  4.173228  3.533333   \n",
       "10325       1        12.1  28.3  30.4  86.9      1  4.275618  4.033333   \n",
       "10326       1        13.1  17.7  28.1  80.7      1  7.401130  4.366667   \n",
       "10327       0        14.3  16.2  29.5  95.2      0  8.827160  4.766667   \n",
       "10328       0        11.8  21.2  28.4  98.1      1  5.566038  3.933333   \n",
       "\n",
       "             HCT  \n",
       "0      45.508982  \n",
       "1      36.615385  \n",
       "2      50.145773  \n",
       "3      37.941176  \n",
       "4      43.939394  \n",
       "...          ...  \n",
       "10324  37.588652  \n",
       "10325  39.802632  \n",
       "10326  46.619217  \n",
       "10327  48.474576  \n",
       "10328  41.549296  \n",
       "\n",
       "[10329 rows x 9 columns]"
      ]
     },
     "execution_count": 12,
     "metadata": {},
     "output_type": "execute_result"
    }
   ],
   "source": [
    "df"
   ]
  },
  {
   "cell_type": "code",
   "execution_count": 13,
   "id": "3f3c9bc1",
   "metadata": {},
   "outputs": [],
   "source": [
    "df1=df"
   ]
  },
  {
   "cell_type": "code",
   "execution_count": 14,
   "id": "45bcaed9",
   "metadata": {},
   "outputs": [],
   "source": [
    "x= df1.drop(['Result'],axis=1)"
   ]
  },
  {
   "cell_type": "code",
   "execution_count": 15,
   "id": "b48c9e3f",
   "metadata": {},
   "outputs": [
    {
     "data": {
      "text/html": [
       "<div>\n",
       "<style scoped>\n",
       "    .dataframe tbody tr th:only-of-type {\n",
       "        vertical-align: middle;\n",
       "    }\n",
       "\n",
       "    .dataframe tbody tr th {\n",
       "        vertical-align: top;\n",
       "    }\n",
       "\n",
       "    .dataframe thead th {\n",
       "        text-align: right;\n",
       "    }\n",
       "</style>\n",
       "<table border=\"1\" class=\"dataframe\">\n",
       "  <thead>\n",
       "    <tr style=\"text-align: right;\">\n",
       "      <th></th>\n",
       "      <th>Gender</th>\n",
       "      <th>Hemoglobin</th>\n",
       "      <th>MCH</th>\n",
       "      <th>MCHC</th>\n",
       "      <th>MCV</th>\n",
       "      <th>RBC</th>\n",
       "      <th>PCV</th>\n",
       "      <th>HCT</th>\n",
       "    </tr>\n",
       "  </thead>\n",
       "  <tbody>\n",
       "    <tr>\n",
       "      <th>0</th>\n",
       "      <td>0</td>\n",
       "      <td>15.2</td>\n",
       "      <td>29.9</td>\n",
       "      <td>33.4</td>\n",
       "      <td>89.3</td>\n",
       "      <td>5.083612</td>\n",
       "      <td>5.066667</td>\n",
       "      <td>45.508982</td>\n",
       "    </tr>\n",
       "    <tr>\n",
       "      <th>1</th>\n",
       "      <td>0</td>\n",
       "      <td>11.9</td>\n",
       "      <td>31.0</td>\n",
       "      <td>32.5</td>\n",
       "      <td>95.4</td>\n",
       "      <td>3.838710</td>\n",
       "      <td>3.966667</td>\n",
       "      <td>36.615385</td>\n",
       "    </tr>\n",
       "    <tr>\n",
       "      <th>2</th>\n",
       "      <td>0</td>\n",
       "      <td>17.2</td>\n",
       "      <td>31.1</td>\n",
       "      <td>34.3</td>\n",
       "      <td>90.5</td>\n",
       "      <td>5.530547</td>\n",
       "      <td>5.733333</td>\n",
       "      <td>50.145773</td>\n",
       "    </tr>\n",
       "    <tr>\n",
       "      <th>3</th>\n",
       "      <td>0</td>\n",
       "      <td>12.9</td>\n",
       "      <td>28.0</td>\n",
       "      <td>34.0</td>\n",
       "      <td>82.1</td>\n",
       "      <td>4.607143</td>\n",
       "      <td>4.300000</td>\n",
       "      <td>37.941176</td>\n",
       "    </tr>\n",
       "    <tr>\n",
       "      <th>4</th>\n",
       "      <td>1</td>\n",
       "      <td>14.5</td>\n",
       "      <td>30.6</td>\n",
       "      <td>33.0</td>\n",
       "      <td>92.8</td>\n",
       "      <td>4.738562</td>\n",
       "      <td>4.833333</td>\n",
       "      <td>43.939394</td>\n",
       "    </tr>\n",
       "    <tr>\n",
       "      <th>...</th>\n",
       "      <td>...</td>\n",
       "      <td>...</td>\n",
       "      <td>...</td>\n",
       "      <td>...</td>\n",
       "      <td>...</td>\n",
       "      <td>...</td>\n",
       "      <td>...</td>\n",
       "      <td>...</td>\n",
       "    </tr>\n",
       "    <tr>\n",
       "      <th>10324</th>\n",
       "      <td>0</td>\n",
       "      <td>10.6</td>\n",
       "      <td>25.4</td>\n",
       "      <td>28.2</td>\n",
       "      <td>82.9</td>\n",
       "      <td>4.173228</td>\n",
       "      <td>3.533333</td>\n",
       "      <td>37.588652</td>\n",
       "    </tr>\n",
       "    <tr>\n",
       "      <th>10325</th>\n",
       "      <td>1</td>\n",
       "      <td>12.1</td>\n",
       "      <td>28.3</td>\n",
       "      <td>30.4</td>\n",
       "      <td>86.9</td>\n",
       "      <td>4.275618</td>\n",
       "      <td>4.033333</td>\n",
       "      <td>39.802632</td>\n",
       "    </tr>\n",
       "    <tr>\n",
       "      <th>10326</th>\n",
       "      <td>1</td>\n",
       "      <td>13.1</td>\n",
       "      <td>17.7</td>\n",
       "      <td>28.1</td>\n",
       "      <td>80.7</td>\n",
       "      <td>7.401130</td>\n",
       "      <td>4.366667</td>\n",
       "      <td>46.619217</td>\n",
       "    </tr>\n",
       "    <tr>\n",
       "      <th>10327</th>\n",
       "      <td>0</td>\n",
       "      <td>14.3</td>\n",
       "      <td>16.2</td>\n",
       "      <td>29.5</td>\n",
       "      <td>95.2</td>\n",
       "      <td>8.827160</td>\n",
       "      <td>4.766667</td>\n",
       "      <td>48.474576</td>\n",
       "    </tr>\n",
       "    <tr>\n",
       "      <th>10328</th>\n",
       "      <td>0</td>\n",
       "      <td>11.8</td>\n",
       "      <td>21.2</td>\n",
       "      <td>28.4</td>\n",
       "      <td>98.1</td>\n",
       "      <td>5.566038</td>\n",
       "      <td>3.933333</td>\n",
       "      <td>41.549296</td>\n",
       "    </tr>\n",
       "  </tbody>\n",
       "</table>\n",
       "<p>10329 rows × 8 columns</p>\n",
       "</div>"
      ],
      "text/plain": [
       "       Gender  Hemoglobin   MCH  MCHC   MCV       RBC       PCV        HCT\n",
       "0           0        15.2  29.9  33.4  89.3  5.083612  5.066667  45.508982\n",
       "1           0        11.9  31.0  32.5  95.4  3.838710  3.966667  36.615385\n",
       "2           0        17.2  31.1  34.3  90.5  5.530547  5.733333  50.145773\n",
       "3           0        12.9  28.0  34.0  82.1  4.607143  4.300000  37.941176\n",
       "4           1        14.5  30.6  33.0  92.8  4.738562  4.833333  43.939394\n",
       "...       ...         ...   ...   ...   ...       ...       ...        ...\n",
       "10324       0        10.6  25.4  28.2  82.9  4.173228  3.533333  37.588652\n",
       "10325       1        12.1  28.3  30.4  86.9  4.275618  4.033333  39.802632\n",
       "10326       1        13.1  17.7  28.1  80.7  7.401130  4.366667  46.619217\n",
       "10327       0        14.3  16.2  29.5  95.2  8.827160  4.766667  48.474576\n",
       "10328       0        11.8  21.2  28.4  98.1  5.566038  3.933333  41.549296\n",
       "\n",
       "[10329 rows x 8 columns]"
      ]
     },
     "execution_count": 15,
     "metadata": {},
     "output_type": "execute_result"
    }
   ],
   "source": [
    "x"
   ]
  },
  {
   "cell_type": "code",
   "execution_count": 16,
   "id": "5110e24a",
   "metadata": {},
   "outputs": [],
   "source": [
    "y = df['Result']"
   ]
  },
  {
   "cell_type": "code",
   "execution_count": 17,
   "id": "a402546a",
   "metadata": {},
   "outputs": [
    {
     "data": {
      "text/plain": [
       "0        0\n",
       "1        1\n",
       "2        0\n",
       "3        0\n",
       "4        0\n",
       "        ..\n",
       "10324    1\n",
       "10325    1\n",
       "10326    1\n",
       "10327    0\n",
       "10328    1\n",
       "Name: Result, Length: 10329, dtype: category\n",
       "Categories (2, int64): [0, 1]"
      ]
     },
     "execution_count": 17,
     "metadata": {},
     "output_type": "execute_result"
    }
   ],
   "source": [
    "y"
   ]
  },
  {
   "cell_type": "code",
   "execution_count": 18,
   "id": "76492de9",
   "metadata": {},
   "outputs": [],
   "source": [
    "from sklearn.feature_selection import SelectKBest"
   ]
  },
  {
   "cell_type": "code",
   "execution_count": 19,
   "id": "f862d718",
   "metadata": {},
   "outputs": [],
   "source": [
    "from sklearn.feature_selection import f_classif"
   ]
  },
  {
   "cell_type": "code",
   "execution_count": 20,
   "id": "78ce56f2",
   "metadata": {},
   "outputs": [],
   "source": [
    "fit_fiture = SelectKBest(score_func = f_classif,k=8)"
   ]
  },
  {
   "cell_type": "code",
   "execution_count": 21,
   "id": "a055ade2",
   "metadata": {},
   "outputs": [
    {
     "data": {
      "text/html": [
       "<style>#sk-container-id-1 {color: black;}#sk-container-id-1 pre{padding: 0;}#sk-container-id-1 div.sk-toggleable {background-color: white;}#sk-container-id-1 label.sk-toggleable__label {cursor: pointer;display: block;width: 100%;margin-bottom: 0;padding: 0.3em;box-sizing: border-box;text-align: center;}#sk-container-id-1 label.sk-toggleable__label-arrow:before {content: \"▸\";float: left;margin-right: 0.25em;color: #696969;}#sk-container-id-1 label.sk-toggleable__label-arrow:hover:before {color: black;}#sk-container-id-1 div.sk-estimator:hover label.sk-toggleable__label-arrow:before {color: black;}#sk-container-id-1 div.sk-toggleable__content {max-height: 0;max-width: 0;overflow: hidden;text-align: left;background-color: #f0f8ff;}#sk-container-id-1 div.sk-toggleable__content pre {margin: 0.2em;color: black;border-radius: 0.25em;background-color: #f0f8ff;}#sk-container-id-1 input.sk-toggleable__control:checked~div.sk-toggleable__content {max-height: 200px;max-width: 100%;overflow: auto;}#sk-container-id-1 input.sk-toggleable__control:checked~label.sk-toggleable__label-arrow:before {content: \"▾\";}#sk-container-id-1 div.sk-estimator input.sk-toggleable__control:checked~label.sk-toggleable__label {background-color: #d4ebff;}#sk-container-id-1 div.sk-label input.sk-toggleable__control:checked~label.sk-toggleable__label {background-color: #d4ebff;}#sk-container-id-1 input.sk-hidden--visually {border: 0;clip: rect(1px 1px 1px 1px);clip: rect(1px, 1px, 1px, 1px);height: 1px;margin: -1px;overflow: hidden;padding: 0;position: absolute;width: 1px;}#sk-container-id-1 div.sk-estimator {font-family: monospace;background-color: #f0f8ff;border: 1px dotted black;border-radius: 0.25em;box-sizing: border-box;margin-bottom: 0.5em;}#sk-container-id-1 div.sk-estimator:hover {background-color: #d4ebff;}#sk-container-id-1 div.sk-parallel-item::after {content: \"\";width: 100%;border-bottom: 1px solid gray;flex-grow: 1;}#sk-container-id-1 div.sk-label:hover label.sk-toggleable__label {background-color: #d4ebff;}#sk-container-id-1 div.sk-serial::before {content: \"\";position: absolute;border-left: 1px solid gray;box-sizing: border-box;top: 0;bottom: 0;left: 50%;z-index: 0;}#sk-container-id-1 div.sk-serial {display: flex;flex-direction: column;align-items: center;background-color: white;padding-right: 0.2em;padding-left: 0.2em;position: relative;}#sk-container-id-1 div.sk-item {position: relative;z-index: 1;}#sk-container-id-1 div.sk-parallel {display: flex;align-items: stretch;justify-content: center;background-color: white;position: relative;}#sk-container-id-1 div.sk-item::before, #sk-container-id-1 div.sk-parallel-item::before {content: \"\";position: absolute;border-left: 1px solid gray;box-sizing: border-box;top: 0;bottom: 0;left: 50%;z-index: -1;}#sk-container-id-1 div.sk-parallel-item {display: flex;flex-direction: column;z-index: 1;position: relative;background-color: white;}#sk-container-id-1 div.sk-parallel-item:first-child::after {align-self: flex-end;width: 50%;}#sk-container-id-1 div.sk-parallel-item:last-child::after {align-self: flex-start;width: 50%;}#sk-container-id-1 div.sk-parallel-item:only-child::after {width: 0;}#sk-container-id-1 div.sk-dashed-wrapped {border: 1px dashed gray;margin: 0 0.4em 0.5em 0.4em;box-sizing: border-box;padding-bottom: 0.4em;background-color: white;}#sk-container-id-1 div.sk-label label {font-family: monospace;font-weight: bold;display: inline-block;line-height: 1.2em;}#sk-container-id-1 div.sk-label-container {text-align: center;}#sk-container-id-1 div.sk-container {/* jupyter's `normalize.less` sets `[hidden] { display: none; }` but bootstrap.min.css set `[hidden] { display: none !important; }` so we also need the `!important` here to be able to override the default hidden behavior on the sphinx rendered scikit-learn.org. See: https://github.com/scikit-learn/scikit-learn/issues/21755 */display: inline-block !important;position: relative;}#sk-container-id-1 div.sk-text-repr-fallback {display: none;}</style><div id=\"sk-container-id-1\" class=\"sk-top-container\"><div class=\"sk-text-repr-fallback\"><pre>SelectKBest(k=8)</pre><b>In a Jupyter environment, please rerun this cell to show the HTML representation or trust the notebook. <br />On GitHub, the HTML representation is unable to render, please try loading this page with nbviewer.org.</b></div><div class=\"sk-container\" hidden><div class=\"sk-item\"><div class=\"sk-estimator sk-toggleable\"><input class=\"sk-toggleable__control sk-hidden--visually\" id=\"sk-estimator-id-1\" type=\"checkbox\" checked><label for=\"sk-estimator-id-1\" class=\"sk-toggleable__label sk-toggleable__label-arrow\">SelectKBest</label><div class=\"sk-toggleable__content\"><pre>SelectKBest(k=8)</pre></div></div></div></div></div>"
      ],
      "text/plain": [
       "SelectKBest(k=8)"
      ]
     },
     "execution_count": 21,
     "metadata": {},
     "output_type": "execute_result"
    }
   ],
   "source": [
    "fit_fiture.fit(x,y)"
   ]
  },
  {
   "cell_type": "code",
   "execution_count": 22,
   "id": "c7670800",
   "metadata": {},
   "outputs": [],
   "source": [
    "score_colm = pd.DataFrame(fit_fiture.scores_,columns = ['Score'])"
   ]
  },
  {
   "cell_type": "code",
   "execution_count": 23,
   "id": "2fb65960",
   "metadata": {},
   "outputs": [
    {
     "data": {
      "text/html": [
       "<div>\n",
       "<style scoped>\n",
       "    .dataframe tbody tr th:only-of-type {\n",
       "        vertical-align: middle;\n",
       "    }\n",
       "\n",
       "    .dataframe tbody tr th {\n",
       "        vertical-align: top;\n",
       "    }\n",
       "\n",
       "    .dataframe thead th {\n",
       "        text-align: right;\n",
       "    }\n",
       "</style>\n",
       "<table border=\"1\" class=\"dataframe\">\n",
       "  <thead>\n",
       "    <tr style=\"text-align: right;\">\n",
       "      <th></th>\n",
       "      <th>Score</th>\n",
       "    </tr>\n",
       "  </thead>\n",
       "  <tbody>\n",
       "    <tr>\n",
       "      <th>0</th>\n",
       "      <td>3633.127096</td>\n",
       "    </tr>\n",
       "    <tr>\n",
       "      <th>1</th>\n",
       "      <td>9967.729468</td>\n",
       "    </tr>\n",
       "    <tr>\n",
       "      <th>2</th>\n",
       "      <td>561.891423</td>\n",
       "    </tr>\n",
       "    <tr>\n",
       "      <th>3</th>\n",
       "      <td>407.200585</td>\n",
       "    </tr>\n",
       "    <tr>\n",
       "      <th>4</th>\n",
       "      <td>399.420866</td>\n",
       "    </tr>\n",
       "    <tr>\n",
       "      <th>5</th>\n",
       "      <td>1179.897306</td>\n",
       "    </tr>\n",
       "    <tr>\n",
       "      <th>6</th>\n",
       "      <td>9967.729468</td>\n",
       "    </tr>\n",
       "    <tr>\n",
       "      <th>7</th>\n",
       "      <td>6421.605151</td>\n",
       "    </tr>\n",
       "  </tbody>\n",
       "</table>\n",
       "</div>"
      ],
      "text/plain": [
       "         Score\n",
       "0  3633.127096\n",
       "1  9967.729468\n",
       "2   561.891423\n",
       "3   407.200585\n",
       "4   399.420866\n",
       "5  1179.897306\n",
       "6  9967.729468\n",
       "7  6421.605151"
      ]
     },
     "execution_count": 23,
     "metadata": {},
     "output_type": "execute_result"
    }
   ],
   "source": [
    "score_colm"
   ]
  },
  {
   "cell_type": "code",
   "execution_count": 24,
   "id": "fd698186",
   "metadata": {},
   "outputs": [],
   "source": [
    "nc = pd.DataFrame(x.columns)"
   ]
  },
  {
   "cell_type": "code",
   "execution_count": 25,
   "id": "1cc0b22e",
   "metadata": {},
   "outputs": [],
   "source": [
    "top = pd.concat([nc,score_colm],axis = 1)"
   ]
  },
  {
   "cell_type": "code",
   "execution_count": 26,
   "id": "e72f6eba",
   "metadata": {},
   "outputs": [
    {
     "data": {
      "text/html": [
       "<div>\n",
       "<style scoped>\n",
       "    .dataframe tbody tr th:only-of-type {\n",
       "        vertical-align: middle;\n",
       "    }\n",
       "\n",
       "    .dataframe tbody tr th {\n",
       "        vertical-align: top;\n",
       "    }\n",
       "\n",
       "    .dataframe thead th {\n",
       "        text-align: right;\n",
       "    }\n",
       "</style>\n",
       "<table border=\"1\" class=\"dataframe\">\n",
       "  <thead>\n",
       "    <tr style=\"text-align: right;\">\n",
       "      <th></th>\n",
       "      <th>0</th>\n",
       "      <th>Score</th>\n",
       "    </tr>\n",
       "  </thead>\n",
       "  <tbody>\n",
       "    <tr>\n",
       "      <th>0</th>\n",
       "      <td>Gender</td>\n",
       "      <td>3633.127096</td>\n",
       "    </tr>\n",
       "    <tr>\n",
       "      <th>1</th>\n",
       "      <td>Hemoglobin</td>\n",
       "      <td>9967.729468</td>\n",
       "    </tr>\n",
       "    <tr>\n",
       "      <th>2</th>\n",
       "      <td>MCH</td>\n",
       "      <td>561.891423</td>\n",
       "    </tr>\n",
       "    <tr>\n",
       "      <th>3</th>\n",
       "      <td>MCHC</td>\n",
       "      <td>407.200585</td>\n",
       "    </tr>\n",
       "    <tr>\n",
       "      <th>4</th>\n",
       "      <td>MCV</td>\n",
       "      <td>399.420866</td>\n",
       "    </tr>\n",
       "    <tr>\n",
       "      <th>5</th>\n",
       "      <td>RBC</td>\n",
       "      <td>1179.897306</td>\n",
       "    </tr>\n",
       "    <tr>\n",
       "      <th>6</th>\n",
       "      <td>PCV</td>\n",
       "      <td>9967.729468</td>\n",
       "    </tr>\n",
       "    <tr>\n",
       "      <th>7</th>\n",
       "      <td>HCT</td>\n",
       "      <td>6421.605151</td>\n",
       "    </tr>\n",
       "  </tbody>\n",
       "</table>\n",
       "</div>"
      ],
      "text/plain": [
       "            0        Score\n",
       "0      Gender  3633.127096\n",
       "1  Hemoglobin  9967.729468\n",
       "2         MCH   561.891423\n",
       "3        MCHC   407.200585\n",
       "4         MCV   399.420866\n",
       "5         RBC  1179.897306\n",
       "6         PCV  9967.729468\n",
       "7         HCT  6421.605151"
      ]
     },
     "execution_count": 26,
     "metadata": {},
     "output_type": "execute_result"
    }
   ],
   "source": [
    "top"
   ]
  },
  {
   "cell_type": "code",
   "execution_count": 27,
   "id": "21b7248e",
   "metadata": {},
   "outputs": [
    {
     "data": {
      "text/html": [
       "<div>\n",
       "<style scoped>\n",
       "    .dataframe tbody tr th:only-of-type {\n",
       "        vertical-align: middle;\n",
       "    }\n",
       "\n",
       "    .dataframe tbody tr th {\n",
       "        vertical-align: top;\n",
       "    }\n",
       "\n",
       "    .dataframe thead th {\n",
       "        text-align: right;\n",
       "    }\n",
       "</style>\n",
       "<table border=\"1\" class=\"dataframe\">\n",
       "  <thead>\n",
       "    <tr style=\"text-align: right;\">\n",
       "      <th></th>\n",
       "      <th>0</th>\n",
       "      <th>Score</th>\n",
       "    </tr>\n",
       "  </thead>\n",
       "  <tbody>\n",
       "    <tr>\n",
       "      <th>6</th>\n",
       "      <td>PCV</td>\n",
       "      <td>9967.729468</td>\n",
       "    </tr>\n",
       "    <tr>\n",
       "      <th>1</th>\n",
       "      <td>Hemoglobin</td>\n",
       "      <td>9967.729468</td>\n",
       "    </tr>\n",
       "    <tr>\n",
       "      <th>7</th>\n",
       "      <td>HCT</td>\n",
       "      <td>6421.605151</td>\n",
       "    </tr>\n",
       "    <tr>\n",
       "      <th>0</th>\n",
       "      <td>Gender</td>\n",
       "      <td>3633.127096</td>\n",
       "    </tr>\n",
       "    <tr>\n",
       "      <th>5</th>\n",
       "      <td>RBC</td>\n",
       "      <td>1179.897306</td>\n",
       "    </tr>\n",
       "    <tr>\n",
       "      <th>2</th>\n",
       "      <td>MCH</td>\n",
       "      <td>561.891423</td>\n",
       "    </tr>\n",
       "    <tr>\n",
       "      <th>3</th>\n",
       "      <td>MCHC</td>\n",
       "      <td>407.200585</td>\n",
       "    </tr>\n",
       "    <tr>\n",
       "      <th>4</th>\n",
       "      <td>MCV</td>\n",
       "      <td>399.420866</td>\n",
       "    </tr>\n",
       "  </tbody>\n",
       "</table>\n",
       "</div>"
      ],
      "text/plain": [
       "            0        Score\n",
       "6         PCV  9967.729468\n",
       "1  Hemoglobin  9967.729468\n",
       "7         HCT  6421.605151\n",
       "0      Gender  3633.127096\n",
       "5         RBC  1179.897306\n",
       "2         MCH   561.891423\n",
       "3        MCHC   407.200585\n",
       "4         MCV   399.420866"
      ]
     },
     "execution_count": 27,
     "metadata": {},
     "output_type": "execute_result"
    }
   ],
   "source": [
    "top.nlargest(8,'Score')"
   ]
  },
  {
   "cell_type": "code",
   "execution_count": 28,
   "id": "13f62c47",
   "metadata": {},
   "outputs": [
    {
     "data": {
      "text/plain": [
       "Result\n",
       "0    6597\n",
       "1    6597\n",
       "Name: count, dtype: int64"
      ]
     },
     "execution_count": 28,
     "metadata": {},
     "output_type": "execute_result"
    }
   ],
   "source": [
    "from imblearn.over_sampling import SMOTE\n",
    "smote = SMOTE(sampling_strategy='minority')\n",
    "x,y = smote.fit_resample(x,y)\n",
    "y.value_counts()\n"
   ]
  },
  {
   "cell_type": "code",
   "execution_count": 29,
   "id": "6263517a",
   "metadata": {},
   "outputs": [],
   "source": [
    "x = np.array(x)\n",
    "y = np.array(y)"
   ]
  },
  {
   "cell_type": "code",
   "execution_count": 30,
   "id": "b6794868",
   "metadata": {},
   "outputs": [
    {
     "data": {
      "text/plain": [
       "(13194, 8)"
      ]
     },
     "execution_count": 30,
     "metadata": {},
     "output_type": "execute_result"
    }
   ],
   "source": [
    "x.shape"
   ]
  },
  {
   "cell_type": "code",
   "execution_count": 31,
   "id": "d0e07fe2",
   "metadata": {},
   "outputs": [],
   "source": [
    "from sklearn.preprocessing import StandardScaler\n",
    "stnd = StandardScaler().fit(x)\n",
    "x = stnd.transform(x)\n"
   ]
  },
  {
   "cell_type": "code",
   "execution_count": 32,
   "id": "e0a2ee95",
   "metadata": {},
   "outputs": [],
   "source": [
    "from sklearn.model_selection import train_test_split\n",
    "x_train, x_test, y_train, y_test = train_test_split(x, y,test_size=0.3, random_state=0)"
   ]
  },
  {
   "cell_type": "code",
   "execution_count": 33,
   "id": "5d217dbe",
   "metadata": {},
   "outputs": [
    {
     "data": {
      "text/plain": [
       "array([0.86246976, 1.30218207, 0.93424041, 0.36897843, 1.03878078,\n",
       "       0.12387082, 1.30218207, 1.13000772])"
      ]
     },
     "execution_count": 33,
     "metadata": {},
     "output_type": "execute_result"
    }
   ],
   "source": [
    "x_train[0]"
   ]
  },
  {
   "cell_type": "code",
   "execution_count": 34,
   "id": "e621444b",
   "metadata": {},
   "outputs": [],
   "source": [
    "from sklearn.ensemble import RandomForestClassifier"
   ]
  },
  {
   "cell_type": "code",
   "execution_count": 35,
   "id": "95505400",
   "metadata": {},
   "outputs": [],
   "source": [
    "rfc = RandomForestClassifier()"
   ]
  },
  {
   "cell_type": "code",
   "execution_count": 36,
   "id": "55aff8b8",
   "metadata": {},
   "outputs": [
    {
     "data": {
      "text/html": [
       "<style>#sk-container-id-2 {color: black;}#sk-container-id-2 pre{padding: 0;}#sk-container-id-2 div.sk-toggleable {background-color: white;}#sk-container-id-2 label.sk-toggleable__label {cursor: pointer;display: block;width: 100%;margin-bottom: 0;padding: 0.3em;box-sizing: border-box;text-align: center;}#sk-container-id-2 label.sk-toggleable__label-arrow:before {content: \"▸\";float: left;margin-right: 0.25em;color: #696969;}#sk-container-id-2 label.sk-toggleable__label-arrow:hover:before {color: black;}#sk-container-id-2 div.sk-estimator:hover label.sk-toggleable__label-arrow:before {color: black;}#sk-container-id-2 div.sk-toggleable__content {max-height: 0;max-width: 0;overflow: hidden;text-align: left;background-color: #f0f8ff;}#sk-container-id-2 div.sk-toggleable__content pre {margin: 0.2em;color: black;border-radius: 0.25em;background-color: #f0f8ff;}#sk-container-id-2 input.sk-toggleable__control:checked~div.sk-toggleable__content {max-height: 200px;max-width: 100%;overflow: auto;}#sk-container-id-2 input.sk-toggleable__control:checked~label.sk-toggleable__label-arrow:before {content: \"▾\";}#sk-container-id-2 div.sk-estimator input.sk-toggleable__control:checked~label.sk-toggleable__label {background-color: #d4ebff;}#sk-container-id-2 div.sk-label input.sk-toggleable__control:checked~label.sk-toggleable__label {background-color: #d4ebff;}#sk-container-id-2 input.sk-hidden--visually {border: 0;clip: rect(1px 1px 1px 1px);clip: rect(1px, 1px, 1px, 1px);height: 1px;margin: -1px;overflow: hidden;padding: 0;position: absolute;width: 1px;}#sk-container-id-2 div.sk-estimator {font-family: monospace;background-color: #f0f8ff;border: 1px dotted black;border-radius: 0.25em;box-sizing: border-box;margin-bottom: 0.5em;}#sk-container-id-2 div.sk-estimator:hover {background-color: #d4ebff;}#sk-container-id-2 div.sk-parallel-item::after {content: \"\";width: 100%;border-bottom: 1px solid gray;flex-grow: 1;}#sk-container-id-2 div.sk-label:hover label.sk-toggleable__label {background-color: #d4ebff;}#sk-container-id-2 div.sk-serial::before {content: \"\";position: absolute;border-left: 1px solid gray;box-sizing: border-box;top: 0;bottom: 0;left: 50%;z-index: 0;}#sk-container-id-2 div.sk-serial {display: flex;flex-direction: column;align-items: center;background-color: white;padding-right: 0.2em;padding-left: 0.2em;position: relative;}#sk-container-id-2 div.sk-item {position: relative;z-index: 1;}#sk-container-id-2 div.sk-parallel {display: flex;align-items: stretch;justify-content: center;background-color: white;position: relative;}#sk-container-id-2 div.sk-item::before, #sk-container-id-2 div.sk-parallel-item::before {content: \"\";position: absolute;border-left: 1px solid gray;box-sizing: border-box;top: 0;bottom: 0;left: 50%;z-index: -1;}#sk-container-id-2 div.sk-parallel-item {display: flex;flex-direction: column;z-index: 1;position: relative;background-color: white;}#sk-container-id-2 div.sk-parallel-item:first-child::after {align-self: flex-end;width: 50%;}#sk-container-id-2 div.sk-parallel-item:last-child::after {align-self: flex-start;width: 50%;}#sk-container-id-2 div.sk-parallel-item:only-child::after {width: 0;}#sk-container-id-2 div.sk-dashed-wrapped {border: 1px dashed gray;margin: 0 0.4em 0.5em 0.4em;box-sizing: border-box;padding-bottom: 0.4em;background-color: white;}#sk-container-id-2 div.sk-label label {font-family: monospace;font-weight: bold;display: inline-block;line-height: 1.2em;}#sk-container-id-2 div.sk-label-container {text-align: center;}#sk-container-id-2 div.sk-container {/* jupyter's `normalize.less` sets `[hidden] { display: none; }` but bootstrap.min.css set `[hidden] { display: none !important; }` so we also need the `!important` here to be able to override the default hidden behavior on the sphinx rendered scikit-learn.org. See: https://github.com/scikit-learn/scikit-learn/issues/21755 */display: inline-block !important;position: relative;}#sk-container-id-2 div.sk-text-repr-fallback {display: none;}</style><div id=\"sk-container-id-2\" class=\"sk-top-container\"><div class=\"sk-text-repr-fallback\"><pre>RandomForestClassifier()</pre><b>In a Jupyter environment, please rerun this cell to show the HTML representation or trust the notebook. <br />On GitHub, the HTML representation is unable to render, please try loading this page with nbviewer.org.</b></div><div class=\"sk-container\" hidden><div class=\"sk-item\"><div class=\"sk-estimator sk-toggleable\"><input class=\"sk-toggleable__control sk-hidden--visually\" id=\"sk-estimator-id-2\" type=\"checkbox\" checked><label for=\"sk-estimator-id-2\" class=\"sk-toggleable__label sk-toggleable__label-arrow\">RandomForestClassifier</label><div class=\"sk-toggleable__content\"><pre>RandomForestClassifier()</pre></div></div></div></div></div>"
      ],
      "text/plain": [
       "RandomForestClassifier()"
      ]
     },
     "execution_count": 36,
     "metadata": {},
     "output_type": "execute_result"
    }
   ],
   "source": [
    "rfc.fit(x_train,y_train)"
   ]
  },
  {
   "cell_type": "code",
   "execution_count": 37,
   "id": "2b217352",
   "metadata": {},
   "outputs": [
    {
     "data": {
      "text/plain": [
       "array([1, 1, 1, ..., 1, 0, 0], dtype=int64)"
      ]
     },
     "execution_count": 37,
     "metadata": {},
     "output_type": "execute_result"
    }
   ],
   "source": [
    "prediction = rfc.predict(x_test)\n",
    "prediction"
   ]
  },
  {
   "cell_type": "code",
   "execution_count": 38,
   "id": "86730543",
   "metadata": {},
   "outputs": [],
   "source": [
    "from sklearn.metrics import confusion_matrix , classification_report"
   ]
  },
  {
   "cell_type": "code",
   "execution_count": 39,
   "id": "ad78b7b5",
   "metadata": {},
   "outputs": [
    {
     "data": {
      "image/png": "[encoded data removed]",
      "text/plain": [
       "<Figure size 640x480 with 2 Axes>"
      ]
     },
     "metadata": {},
     "output_type": "display_data"
    }
   ],
   "source": [
    "import seaborn as sns\n",
    "cm = confusion_matrix(y_test,prediction)\n",
    "sns.heatmap(cm,annot = True)\n",
    "plt.show()"
   ]
  },
  {
   "cell_type": "code",
   "execution_count": 40,
   "id": "df5c964c",
   "metadata": {},
   "outputs": [
    {
     "name": "stdout",
     "output_type": "stream",
     "text": [
      "              precision    recall  f1-score   support\n",
      "\n",
      "           0       0.99      0.99      0.99      2007\n",
      "           1       0.99      0.99      0.99      1952\n",
      "\n",
      "    accuracy                           0.99      3959\n",
      "   macro avg       0.99      0.99      0.99      3959\n",
      "weighted avg       0.99      0.99      0.99      3959\n",
      "\n"
     ]
    }
   ],
   "source": [
    "print(classification_report(y_test,prediction))"
   ]
  },
  {
   "cell_type": "code",
   "execution_count": 41,
   "id": "fbd6a6e4",
   "metadata": {},
   "outputs": [
    {
     "name": "stdout",
     "output_type": "stream",
     "text": [
      "WARNING:tensorflow:From C:\\Users\\HP\\anaconda3\\Lib\\site-packages\\keras\\src\\backend.py:873: The name tf.get_default_graph is deprecated. Please use tf.compat.v1.get_default_graph instead.\n",
      "\n",
      "WARNING:tensorflow:From C:\\Users\\HP\\anaconda3\\Lib\\site-packages\\keras\\src\\optimizers\\__init__.py:309: The name tf.train.Optimizer is deprecated. Please use tf.compat.v1.train.Optimizer instead.\n",
      "\n"
     ]
    }
   ],
   "source": [
    "num_classes = 2\n",
    "model = Sequential([\n",
    "    layers.Dense(50,activation = 'relu'), \n",
    "    layers.Dense(30,activation = 'relu'),  \n",
    "    layers.Dense(20, activation = 'relu'),  \n",
    "    layers.Dense(10, activation = 'relu'), \n",
    "    layers.Dense(num_classes, activation = 'sigmoid') \n",
    "    \n",
    "])\n",
    "\n",
    "model.compile(optimizer = 'adam',\n",
    "             loss=tf.keras.losses.SparseCategoricalCrossentropy(),\n",
    "             metrics = ['accuracy'])"
   ]
  },
  {
   "cell_type": "code",
   "execution_count": 42,
   "id": "f9736212",
   "metadata": {},
   "outputs": [
    {
     "name": "stdout",
     "output_type": "stream",
     "text": [
      "Epoch 1/50\n",
      "WARNING:tensorflow:From C:\\Users\\HP\\anaconda3\\Lib\\site-packages\\keras\\src\\utils\\tf_utils.py:492: The name tf.ragged.RaggedTensorValue is deprecated. Please use tf.compat.v1.ragged.RaggedTensorValue instead.\n",
      "\n",
      "WARNING:tensorflow:From C:\\Users\\HP\\anaconda3\\Lib\\site-packages\\keras\\src\\engine\\base_layer_utils.py:384: The name tf.executing_eagerly_outside_functions is deprecated. Please use tf.compat.v1.executing_eagerly_outside_functions instead.\n",
      "\n",
      "260/260 [==============================] - 2s 2ms/step - loss: 0.1995 - accuracy: 0.9191 - val_loss: 0.0741 - val_accuracy: 0.9740\n",
      "Epoch 2/50\n",
      "260/260 [==============================] - 0s 2ms/step - loss: 0.0566 - accuracy: 0.9865 - val_loss: 0.0606 - val_accuracy: 0.9848\n",
      "Epoch 3/50\n",
      "260/260 [==============================] - 0s 2ms/step - loss: 0.0480 - accuracy: 0.9877 - val_loss: 0.0498 - val_accuracy: 0.9870\n",
      "Epoch 4/50\n",
      "260/260 [==============================] - 0s 2ms/step - loss: 0.0430 - accuracy: 0.9881 - val_loss: 0.0578 - val_accuracy: 0.9838\n",
      "Epoch 5/50\n",
      "260/260 [==============================] - 0s 2ms/step - loss: 0.0399 - accuracy: 0.9883 - val_loss: 0.0464 - val_accuracy: 0.9870\n",
      "Epoch 6/50\n",
      "260/260 [==============================] - 0s 2ms/step - loss: 0.0379 - accuracy: 0.9891 - val_loss: 0.0485 - val_accuracy: 0.9838\n",
      "Epoch 7/50\n",
      "260/260 [==============================] - 0s 2ms/step - loss: 0.0355 - accuracy: 0.9884 - val_loss: 0.0474 - val_accuracy: 0.9859\n",
      "Epoch 8/50\n",
      "260/260 [==============================] - 0s 2ms/step - loss: 0.0337 - accuracy: 0.9895 - val_loss: 0.0504 - val_accuracy: 0.9859\n",
      "Epoch 9/50\n",
      "260/260 [==============================] - 0s 2ms/step - loss: 0.0323 - accuracy: 0.9897 - val_loss: 0.0457 - val_accuracy: 0.9838\n",
      "Epoch 10/50\n",
      "260/260 [==============================] - 0s 2ms/step - loss: 0.0328 - accuracy: 0.9892 - val_loss: 0.0564 - val_accuracy: 0.9827\n",
      "Epoch 11/50\n",
      "260/260 [==============================] - 0s 2ms/step - loss: 0.0321 - accuracy: 0.9907 - val_loss: 0.0383 - val_accuracy: 0.9881\n",
      "Epoch 12/50\n",
      "260/260 [==============================] - 0s 2ms/step - loss: 0.0297 - accuracy: 0.9895 - val_loss: 0.0541 - val_accuracy: 0.9805\n",
      "Epoch 13/50\n",
      "260/260 [==============================] - 0s 2ms/step - loss: 0.0291 - accuracy: 0.9905 - val_loss: 0.0467 - val_accuracy: 0.9848\n",
      "Epoch 14/50\n",
      "260/260 [==============================] - 0s 2ms/step - loss: 0.0274 - accuracy: 0.9906 - val_loss: 0.0409 - val_accuracy: 0.9881\n",
      "Epoch 15/50\n",
      "260/260 [==============================] - 0s 2ms/step - loss: 0.0296 - accuracy: 0.9903 - val_loss: 0.0401 - val_accuracy: 0.9892\n",
      "Epoch 16/50\n",
      "260/260 [==============================] - 0s 2ms/step - loss: 0.0281 - accuracy: 0.9905 - val_loss: 0.0363 - val_accuracy: 0.9892\n",
      "Epoch 17/50\n",
      "260/260 [==============================] - 0s 2ms/step - loss: 0.0256 - accuracy: 0.9915 - val_loss: 0.0397 - val_accuracy: 0.9848\n",
      "Epoch 18/50\n",
      "260/260 [==============================] - 0s 2ms/step - loss: 0.0255 - accuracy: 0.9916 - val_loss: 0.0497 - val_accuracy: 0.9827\n",
      "Epoch 19/50\n",
      "260/260 [==============================] - 0s 2ms/step - loss: 0.0267 - accuracy: 0.9913 - val_loss: 0.0384 - val_accuracy: 0.9903\n",
      "Epoch 20/50\n",
      "260/260 [==============================] - 0s 2ms/step - loss: 0.0260 - accuracy: 0.9916 - val_loss: 0.0389 - val_accuracy: 0.9892\n",
      "Epoch 21/50\n",
      "260/260 [==============================] - 0s 2ms/step - loss: 0.0254 - accuracy: 0.9915 - val_loss: 0.0366 - val_accuracy: 0.9903\n",
      "Epoch 22/50\n",
      "260/260 [==============================] - 0s 2ms/step - loss: 0.0240 - accuracy: 0.9927 - val_loss: 0.0392 - val_accuracy: 0.9892\n",
      "Epoch 23/50\n",
      "260/260 [==============================] - 0s 2ms/step - loss: 0.0247 - accuracy: 0.9918 - val_loss: 0.0516 - val_accuracy: 0.9848\n",
      "Epoch 24/50\n",
      "260/260 [==============================] - 0s 2ms/step - loss: 0.0240 - accuracy: 0.9933 - val_loss: 0.0472 - val_accuracy: 0.9827\n",
      "Epoch 25/50\n",
      "260/260 [==============================] - 0s 2ms/step - loss: 0.0251 - accuracy: 0.9919 - val_loss: 0.0446 - val_accuracy: 0.9816\n",
      "Epoch 26/50\n",
      "260/260 [==============================] - 0s 2ms/step - loss: 0.0230 - accuracy: 0.9919 - val_loss: 0.0461 - val_accuracy: 0.9870\n",
      "Epoch 27/50\n",
      "260/260 [==============================] - 0s 2ms/step - loss: 0.0220 - accuracy: 0.9935 - val_loss: 0.0419 - val_accuracy: 0.9913\n",
      "Epoch 28/50\n",
      "260/260 [==============================] - 0s 2ms/step - loss: 0.0217 - accuracy: 0.9931 - val_loss: 0.0409 - val_accuracy: 0.9903\n",
      "Epoch 29/50\n",
      "260/260 [==============================] - 0s 2ms/step - loss: 0.0226 - accuracy: 0.9923 - val_loss: 0.0370 - val_accuracy: 0.9913\n",
      "Epoch 30/50\n",
      "260/260 [==============================] - 0s 2ms/step - loss: 0.0225 - accuracy: 0.9925 - val_loss: 0.0381 - val_accuracy: 0.9913\n",
      "Epoch 31/50\n",
      "260/260 [==============================] - 0s 2ms/step - loss: 0.0229 - accuracy: 0.9931 - val_loss: 0.0361 - val_accuracy: 0.9924\n",
      "Epoch 32/50\n",
      "260/260 [==============================] - 0s 2ms/step - loss: 0.0216 - accuracy: 0.9936 - val_loss: 0.0420 - val_accuracy: 0.9859\n",
      "Epoch 33/50\n",
      "260/260 [==============================] - 0s 2ms/step - loss: 0.0211 - accuracy: 0.9936 - val_loss: 0.0381 - val_accuracy: 0.9913\n",
      "Epoch 34/50\n",
      "260/260 [==============================] - 0s 2ms/step - loss: 0.0250 - accuracy: 0.9913 - val_loss: 0.0472 - val_accuracy: 0.9859\n",
      "Epoch 35/50\n",
      "260/260 [==============================] - 0s 2ms/step - loss: 0.0199 - accuracy: 0.9936 - val_loss: 0.0377 - val_accuracy: 0.9935\n",
      "Epoch 36/50\n",
      "260/260 [==============================] - 0s 2ms/step - loss: 0.0200 - accuracy: 0.9934 - val_loss: 0.0380 - val_accuracy: 0.9913\n",
      "Epoch 37/50\n",
      "260/260 [==============================] - 0s 2ms/step - loss: 0.0202 - accuracy: 0.9935 - val_loss: 0.0381 - val_accuracy: 0.9913\n",
      "Epoch 38/50\n",
      "260/260 [==============================] - 0s 2ms/step - loss: 0.0209 - accuracy: 0.9935 - val_loss: 0.0402 - val_accuracy: 0.9903\n",
      "Epoch 39/50\n",
      "260/260 [==============================] - 0s 2ms/step - loss: 0.0221 - accuracy: 0.9929 - val_loss: 0.0409 - val_accuracy: 0.9903\n",
      "Epoch 40/50\n",
      "260/260 [==============================] - 0s 2ms/step - loss: 0.0195 - accuracy: 0.9942 - val_loss: 0.0407 - val_accuracy: 0.9870\n",
      "Epoch 41/50\n",
      "260/260 [==============================] - 0s 2ms/step - loss: 0.0186 - accuracy: 0.9937 - val_loss: 0.0412 - val_accuracy: 0.9881\n",
      "Epoch 42/50\n",
      "260/260 [==============================] - 0s 2ms/step - loss: 0.0193 - accuracy: 0.9939 - val_loss: 0.0698 - val_accuracy: 0.9816\n",
      "Epoch 43/50\n",
      "260/260 [==============================] - 0s 2ms/step - loss: 0.0222 - accuracy: 0.9933 - val_loss: 0.0386 - val_accuracy: 0.9924\n",
      "Epoch 44/50\n",
      "260/260 [==============================] - 0s 2ms/step - loss: 0.0199 - accuracy: 0.9933 - val_loss: 0.0404 - val_accuracy: 0.9881\n",
      "Epoch 45/50\n",
      "260/260 [==============================] - 0s 2ms/step - loss: 0.0178 - accuracy: 0.9946 - val_loss: 0.0428 - val_accuracy: 0.9881\n",
      "Epoch 46/50\n",
      "260/260 [==============================] - 0s 2ms/step - loss: 0.0218 - accuracy: 0.9930 - val_loss: 0.0580 - val_accuracy: 0.9805\n",
      "Epoch 47/50\n",
      "260/260 [==============================] - 0s 2ms/step - loss: 0.0234 - accuracy: 0.9921 - val_loss: 0.0450 - val_accuracy: 0.9838\n",
      "Epoch 48/50\n",
      "260/260 [==============================] - 0s 2ms/step - loss: 0.0171 - accuracy: 0.9941 - val_loss: 0.0426 - val_accuracy: 0.9903\n",
      "Epoch 49/50\n",
      "260/260 [==============================] - 0s 2ms/step - loss: 0.0192 - accuracy: 0.9934 - val_loss: 0.0534 - val_accuracy: 0.9859\n",
      "Epoch 50/50\n",
      "260/260 [==============================] - 0s 2ms/step - loss: 0.0218 - accuracy: 0.9927 - val_loss: 0.0442 - val_accuracy: 0.9903\n"
     ]
    }
   ],
   "source": [
    "result = model.fit(x_train, y_train, validation_split=0.1, batch_size =32, epochs = 50)"
   ]
  },
  {
   "cell_type": "code",
   "execution_count": 43,
   "id": "d7ed2617",
   "metadata": {},
   "outputs": [
    {
     "name": "stdout",
     "output_type": "stream",
     "text": [
      "Model: \"sequential\"\n",
      "_________________________________________________________________\n",
      " Layer (type)                Output Shape              Param #   \n",
      "=================================================================\n",
      " dense (Dense)               (None, 50)                450       \n",
      "                                                                 \n",
      " dense_1 (Dense)             (None, 30)                1530      \n",
      "                                                                 \n",
      " dense_2 (Dense)             (None, 20)                620       \n",
      "                                                                 \n",
      " dense_3 (Dense)             (None, 10)                210       \n",
      "                                                                 \n",
      " dense_4 (Dense)             (None, 2)                 22        \n",
      "                                                                 \n",
      "=================================================================\n",
      "Total params: 2832 (11.06 KB)\n",
      "Trainable params: 2832 (11.06 KB)\n",
      "Non-trainable params: 0 (0.00 Byte)\n",
      "_________________________________________________________________\n"
     ]
    }
   ],
   "source": [
    "model.summary()"
   ]
  },
  {
   "cell_type": "code",
   "execution_count": 44,
   "id": "f2813fa1",
   "metadata": {},
   "outputs": [
    {
     "name": "stdout",
     "output_type": "stream",
     "text": [
      "124/124 [==============================] - 0s 1ms/step - loss: 0.0291 - accuracy: 0.9927\n"
     ]
    },
    {
     "data": {
      "text/plain": [
       "[0.029144244268536568, 0.9926749467849731]"
      ]
     },
     "execution_count": 44,
     "metadata": {},
     "output_type": "execute_result"
    }
   ],
   "source": [
    "model.evaluate(x_test,y_test)"
   ]
  },
  {
   "cell_type": "code",
   "execution_count": 45,
   "id": "0e3e22c2",
   "metadata": {},
   "outputs": [
    {
     "name": "stdout",
     "output_type": "stream",
     "text": [
      "124/124 [==============================] - 0s 989us/step\n"
     ]
    }
   ],
   "source": [
    "predicted = model.predict(x_test)\n",
    "predicted1 = np.round(predicted)\n",
    "predicted2 = []\n",
    "for i in range(len(predicted1)):\n",
    "    z = np.argmax(predicted1[i])\n",
    "    predicted2.append(z)"
   ]
  },
  {
   "cell_type": "code",
   "execution_count": 46,
   "id": "83bce18a",
   "metadata": {},
   "outputs": [
    {
     "name": "stdout",
     "output_type": "stream",
     "text": [
      "              precision    recall  f1-score   support\n",
      "\n",
      "           0       1.00      0.99      0.99      2007\n",
      "           1       0.99      1.00      0.99      1952\n",
      "\n",
      "    accuracy                           0.99      3959\n",
      "   macro avg       0.99      0.99      0.99      3959\n",
      "weighted avg       0.99      0.99      0.99      3959\n",
      "\n"
     ]
    }
   ],
   "source": [
    "from sklearn.metrics import confusion_matrix , classification_report\n",
    "print(classification_report(y_test,predicted2))\n"
   ]
  },
  {
   "cell_type": "code",
   "execution_count": 47,
   "id": "66163446",
   "metadata": {},
   "outputs": [
    {
     "data": {
      "image/png": "[encoded data removed]",
      "text/plain": [
       "<Figure size 640x480 with 2 Axes>"
      ]
     },
     "metadata": {},
     "output_type": "display_data"
    }
   ],
   "source": [
    "import seaborn as sns\n",
    "cm = confusion_matrix(y_test,predicted2)\n",
    "sns.heatmap(cm,annot = True)\n",
    "plt.show()\n",
    "\n"
   ]
  },
  {
   "cell_type": "code",
   "execution_count": 48,
   "id": "e54984d8",
   "metadata": {},
   "outputs": [
    {
     "data": {
      "image/png": "[encoded data removed]",
      "text/plain": [
       "<Figure size 640x480 with 1 Axes>"
      ]
     },
     "metadata": {},
     "output_type": "display_data"
    },
    {
     "data": {
      "image/png": "[encoded data removed]",
      "text/plain": [
       "<Figure size 640x480 with 1 Axes>"
      ]
     },
     "metadata": {},
     "output_type": "display_data"
    }
   ],
   "source": [
    "\n",
    "plt.plot(result.history['accuracy'])\n",
    "plt.plot(result.history['val_accuracy'])\n",
    "plt.title('Training and validation accuracy')\n",
    "plt.ylabel('Accuracy')\n",
    "plt.xlabel('Epoch')\n",
    "plt.legend(['training accuracy', 'validation accuracy'], loc='lower right')\n",
    "plt.savefig('acc.jpg',dpi=500)\n",
    "plt.show()\n",
    "\n",
    "plt.plot(result.history['loss'])\n",
    "plt.plot(result.history['val_loss'])\n",
    "plt.title('Training and validation loss')\n",
    "plt.ylabel('Loss')\n",
    "plt.xlabel('Epoch')\n",
    "plt.legend(['training loss', 'validation'], loc='upper right')\n",
    "plt.savefig('loss.jpg',dpi=500)\n",
    "plt.show()"
   ]
  },
  {
   "cell_type": "code",
   "execution_count": null,
   "id": "a8555003",
   "metadata": {},
   "outputs": [],
   "source": []
  }
 ],
 "metadata": {
  "kernelspec": {
   "display_name": "Python 3 (ipykernel)",
   "language": "python",
   "name": "python3"
  },
  "language_info": {
   "codemirror_mode": {
    "name": "ipython",
    "version": 3
   },
   "file_extension": ".py",
   "mimetype": "text/x-python",
   "name": "python",
   "nbconvert_exporter": "python",
   "pygments_lexer": "ipython3",
   "version": "3.11.5"
  }
 },
 "nbformat": 4,
 "nbformat_minor": 5
}
